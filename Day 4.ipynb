{
 "cells": [
  {
   "cell_type": "markdown",
   "metadata": {},
   "source": [
    "<b> Armstrong Number"
   ]
  },
  {
   "cell_type": "code",
   "execution_count": null,
   "metadata": {},
   "outputs": [],
   "source": [
    "start = 1042000\n",
    "end = 702648265\n",
    "sum_of_cube = 0\n",
    "\n",
    "while(start <= end):\n",
    "    digits = [int(start) for x in list(str(start))]\n",
    "    sum_of_cube = list(map(lambda x: x ** 3, digits))\n",
    "    if sum(sum_of_cube) == start:\n",
    "        print(f\"First armstrong number in the list is {start}.\")\n",
    "        break\n",
    "    start += 1"
   ]
  },
  {
   "cell_type": "markdown",
   "metadata": {},
   "source": [
    "Alternative method"
   ]
  },
  {
   "cell_type": "code",
   "execution_count": null,
   "metadata": {},
   "outputs": [],
   "source": [
    "start = 1042000\n",
    "end = 702648265\n",
    "  \n",
    "while(start<=end):  \n",
    "    sum = 0  \n",
    "    temp = start  \n",
    "    while temp > 0:  \n",
    "        digit = temp % 10  \n",
    "        sum += digit ** 3  \n",
    "        temp //= 10  \n",
    "        if start == sum:  \n",
    "            print(start)\n",
    "    start += 1"
   ]
  }
 ],
 "metadata": {
  "kernelspec": {
   "display_name": "Python 3",
   "language": "python",
   "name": "python3"
  },
  "language_info": {
   "codemirror_mode": {
    "name": "ipython",
    "version": 3
   },
   "file_extension": ".py",
   "mimetype": "text/x-python",
   "name": "python",
   "nbconvert_exporter": "python",
   "pygments_lexer": "ipython3",
   "version": "3.7.1"
  }
 },
 "nbformat": 4,
 "nbformat_minor": 2
}
