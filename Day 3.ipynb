{
 "cells": [
  {
   "cell_type": "markdown",
   "metadata": {},
   "source": [
    "<b>Question 1</b>"
   ]
  },
  {
   "cell_type": "code",
   "execution_count": 1,
   "metadata": {},
   "outputs": [
    {
     "name": "stdout",
     "output_type": "stream",
     "text": [
      "Enter the altitude: 1200\n",
      "Come down to 1000ft\n"
     ]
    }
   ],
   "source": [
    "altitude = int(input(\"Enter the altitude: \"))\n",
    "\n",
    "if altitude > 5000:\n",
    "    print(\"Turn Around and Try Later\")\n",
    "elif altitude > 1000:\n",
    "    print(\"Come down to 1000ft\")\n",
    "elif altitude > 0:\n",
    "    print(\"Safe to Land\")\n",
    "else:\n",
    "    print(\"Please enter correct value\")"
   ]
  },
  {
   "cell_type": "markdown",
   "metadata": {},
   "source": [
    "<b>Question 2</b>"
   ]
  },
  {
   "cell_type": "code",
   "execution_count": 5,
   "metadata": {},
   "outputs": [
    {
     "name": "stdout",
     "output_type": "stream",
     "text": [
      "2,3,5,7,11,13,17,19,23,29,31,37,41,43,47,53,59,61,67,71,73,79,83,89,97,101,103,107,109,113,127,131,137,139,149,151,157,163,167,173,179,181,191,193,197,199,"
     ]
    }
   ],
   "source": [
    "def check_prime(num):\n",
    "    if num == 1:\n",
    "        return False\n",
    "    \n",
    "    for i in range(2,num):\n",
    "        if (num % i) == 0:\n",
    "            return False\n",
    "    return True\n",
    "\n",
    "for num in range(1, 201):\n",
    "    if check_prime(num):\n",
    "        print(num, end=\",\")"
   ]
  }
 ],
 "metadata": {
  "kernelspec": {
   "display_name": "Python 3",
   "language": "python",
   "name": "python3"
  },
  "language_info": {
   "codemirror_mode": {
    "name": "ipython",
    "version": 3
   },
   "file_extension": ".py",
   "mimetype": "text/x-python",
   "name": "python",
   "nbconvert_exporter": "python",
   "pygments_lexer": "ipython3",
   "version": "3.7.1"
  }
 },
 "nbformat": 4,
 "nbformat_minor": 2
}
