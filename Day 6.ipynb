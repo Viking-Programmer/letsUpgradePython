{
 "cells": [
  {
   "cell_type": "markdown",
   "metadata": {},
   "source": [
    "<b>Assignment 1"
   ]
  },
  {
   "cell_type": "code",
   "execution_count": 1,
   "metadata": {},
   "outputs": [
    {
     "name": "stdout",
     "output_type": "stream",
     "text": [
      "Amit Pathak\n",
      "Amount successfully deposited. Current balance is Rs. 34000.\n",
      "Withdrawal successful. Current balance is Rs. 14000.\n",
      "Transaction could not be performed due to insufficient funds.\n",
      "------------------------------\n",
      "Amit Kapadia\n",
      "Transaction could not be performed due to insufficient funds.\n",
      "Amount successfully deposited. Current balance is Rs. 15000.\n",
      "Withdrawal successful. Current balance is Rs. 3000.\n"
     ]
    }
   ],
   "source": [
    "class BankAccount:\n",
    "\n",
    "    def __init__(self, name, balance):\n",
    "        self.owner_name = name\n",
    "        self.balance = balance\n",
    "\n",
    "    def deposit(self, amount):\n",
    "        self.balance += amount\n",
    "        print(f\"Amount successfully deposited. Current balance is Rs. {self.balance}.\")\n",
    "\n",
    "    def withdraw(self, amount):\n",
    "        if amount <= self.balance:\n",
    "            self.balance -= amount\n",
    "            print(f\"Withdrawal successful. Current balance is Rs. {self.balance}.\")\n",
    "        else:\n",
    "            print(f\"Transaction could not be performed due to insufficient funds.\")\n",
    "\n",
    "ba1 = BankAccount(\"Amit Pathak\", 30000)\n",
    "print(ba1.owner_name)\n",
    "ba1.deposit(4000)\n",
    "ba1.withdraw(20000)\n",
    "ba1.withdraw(20000)\n",
    "\n",
    "print(\"-\"*30)\n",
    "\n",
    "ba2 = BankAccount(\"Amit Kapadia\", 10000)\n",
    "print(ba2.owner_name)\n",
    "ba2.withdraw(12000)\n",
    "ba2.deposit(5000)\n",
    "ba2.withdraw(12000)"
   ]
  },
  {
   "cell_type": "markdown",
   "metadata": {},
   "source": [
    "<b>Assignment 2"
   ]
  },
  {
   "cell_type": "code",
   "execution_count": 3,
   "metadata": {},
   "outputs": [
    {
     "name": "stdout",
     "output_type": "stream",
     "text": [
      "Volume of the cone is 117.23 cubic units.\n",
      "Surface area of the cone is 151.50 square units.\n"
     ]
    }
   ],
   "source": [
    "pi = 3.14\n",
    "\n",
    "class Cone:\n",
    "\n",
    "    def __init__(self, radius, height):\n",
    "        self.r = radius\n",
    "        self.h = height\n",
    "\n",
    "    def calculate_volume(self):\n",
    "        volume = (pi * self.r**2) * (self.h/3)\n",
    "        print(f\"Volume of the cone is {volume:.2f} cubic units.\")\n",
    "\n",
    "    def calculate_surface_area(self):\n",
    "        base = (pi * self.r**2)\n",
    "        side = pi * self.r * (self.r**2 + self.h**2)**(0.5)\n",
    "        surface_area = base + side\n",
    "        print(f\"Surface area of the cone is {surface_area:.2f} square units.\")\n",
    "\n",
    "cone_obj = Cone(4, 7)\n",
    "cone_obj.calculate_volume()\n",
    "cone_obj.calculate_surface_area()"
   ]
  }
 ],
 "metadata": {
  "kernelspec": {
   "display_name": "Python 3",
   "language": "python",
   "name": "python3"
  },
  "language_info": {
   "codemirror_mode": {
    "name": "ipython",
    "version": 3
   },
   "file_extension": ".py",
   "mimetype": "text/x-python",
   "name": "python",
   "nbconvert_exporter": "python",
   "pygments_lexer": "ipython3",
   "version": "3.7.1"
  }
 },
 "nbformat": 4,
 "nbformat_minor": 2
}
