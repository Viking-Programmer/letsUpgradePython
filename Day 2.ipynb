{
 "cells": [
  {
   "cell_type": "markdown",
   "metadata": {},
   "source": [
    "<b>Question 1</b>\n",
    "List and its default functions"
   ]
  },
  {
   "cell_type": "code",
   "execution_count": 1,
   "metadata": {},
   "outputs": [
    {
     "name": "stdout",
     "output_type": "stream",
     "text": [
      "Count   : [1, 1, 2, 5, 1] No. of 1s - 3\n",
      "Append  : [1, 1, 2, 5, 1, 2]\n",
      "Extend  : [2, 3, 4] [1, 1, 2, 5, 1, 2, 2, 3, 4]\n",
      "Copy    : d = [2, 3, 4] c = [2, 3, 4] ~ID of d: 1792934468040 ~ID of c: 1792934467848\n",
      "Insert  : d = [2, 3, 5, 4]\n",
      "Index   : index of 5 in d - 2\n",
      "Pop     : 4\n",
      "Remove  : [1, 1, 2, 5, 1] [1, 2, 5, 1]\n",
      "Reverse : [1, 5, 2, 1]\n",
      "Sort    : [1, 1, 2, 5]\n",
      "Clear   : []\n"
     ]
    }
   ],
   "source": [
    "b = [1,1,2,5,1]\n",
    "print(\"Count   :\", b, \"No. of 1s -\", b.count(1))\n",
    "b.append(2)\n",
    "print(\"Append  :\", b)\n",
    "c = [2,3,4]\n",
    "b.extend(c)\n",
    "print(\"Extend  :\", c, b)\n",
    "d = c.copy()\n",
    "print(\"Copy    :\", \"d =\", d, \"c =\", c, \"~ID of d:\", id(d), \"~ID of c:\", id(c))\n",
    "d.insert(2, 5)\n",
    "print(\"Insert  :\", \"d =\", d)\n",
    "print(\"Index   :\", \"index of 5 in d -\", d.index(5))\n",
    "print(\"Pop     :\", d.pop())\n",
    "b = [1,1,2,5,1]\n",
    "b.remove(1)\n",
    "print(\"Remove  :\", [1,1,2,5,1] ,b)\n",
    "b.reverse()\n",
    "print(\"Reverse :\", b)\n",
    "b.sort()\n",
    "print(\"Sort    :\", b)\n",
    "b.clear()\n",
    "print(\"Clear   :\", b)"
   ]
  },
  {
   "cell_type": "markdown",
   "metadata": {},
   "source": [
    "<b>Question 2</b> Dictionary and its default functions."
   ]
  },
  {
   "cell_type": "code",
   "execution_count": 2,
   "metadata": {},
   "outputs": [
    {
     "name": "stdout",
     "output_type": "stream",
     "text": [
      "-------------------1) .copy() function-------------------\n",
      "{'Maha': 'Mumbai', 'Goa': 'Panji', 'Bihar': 'Patna', 'Jammu': 'Srinagar', 'Kerala': 'Trivandurum'} ID: 1792934519432\n",
      "{'Maha': 'Mumbai', 'Goa': 'Panji', 'Bihar': 'Patna', 'Jammu': 'Srinagar', 'Kerala': 'Trivandurum'} ID: 1792934519504\n",
      "\n",
      "-------------------2) .fromkeys() function-------------------\n",
      "Keys: ['red', 'green', 'blue', 'black']\n",
      "{'red': 5, 'green': 5, 'blue': 5, 'black': 5}\n",
      "\n",
      "-------------------3) .get() function-------------------\n",
      "Panji\n",
      "\n",
      "-------------------3) .items() function-------------------\n",
      "dict_items([('Maha', 'Mumbai'), ('Goa', 'Panji'), ('Bihar', 'Patna'), ('Jammu', 'Srinagar'), ('Kerala', 'Trivandurum')])\n",
      "\n",
      "-------------------3) .keys() function-------------------\n",
      "dict_keys(['Maha', 'Goa', 'Bihar', 'Jammu', 'Kerala'])\n",
      "<class 'dict_keys'>\n",
      "\n",
      "-------------------3) .pop() function-------------------\n",
      "{'Maha': 'Mumbai', 'Goa': 'Panji', 'Bihar': 'Patna', 'Jammu': 'Srinagar', 'Kerala': 'Trivandurum'}\n",
      "{'Maha': 'Mumbai', 'Goa': 'Panji', 'Jammu': 'Srinagar', 'Kerala': 'Trivandurum'}\n",
      "\n",
      "-------------------3) .popitem() function-------------------\n",
      "{'Maha': 'Mumbai', 'Goa': 'Panji', 'Jammu': 'Srinagar', 'Kerala': 'Trivandurum'}\n",
      "{'Maha': 'Mumbai', 'Goa': 'Panji', 'Jammu': 'Srinagar'}\n",
      "\n",
      "-------------------3) .setdefault() function-------------------\n",
      "{'red': 5, 'green': 5, 'blue': 5, 'black': 5, 'white': 5}\n",
      "\n",
      "-------------------3) .update() function-------------------\n",
      "{'Maha': 'Mumbai', 'Goa': 'Panji', 'Jammu': 'Srinagar', 'red': 5, 'green': 5, 'blue': 5, 'black': 5, 'white': 5}\n",
      "\n",
      "-------------------3) .values() function-------------------\n",
      "dict_values([5, 5, 5, 5, 5])\n",
      "\n",
      "-------------------3) .clear() function-------------------\n",
      "{}\n"
     ]
    }
   ],
   "source": [
    "dict_capital = {'Maha':'Mumbai', 'Goa':'Panji', 'Bihar':'Patna', 'Jammu':'Srinagar', 'Kerala':'Trivandurum'}\n",
    "\n",
    "print(\"-------------------1) .copy() function-------------------\")\n",
    "# copying a dictionary\n",
    "dict_capital_2 = dict_capital.copy()\n",
    "print(dict_capital, \"ID:\",id(dict_capital))\n",
    "print(dict_capital_2, \"ID:\",id(dict_capital_2))\n",
    "print()\n",
    "\n",
    "print(\"-------------------2) .fromkeys() function-------------------\")\n",
    "# The method fromkeys() creates a new dictionary with keys from seq and values set to value.\n",
    "colors = ['red', 'green', 'blue', 'black']\n",
    "color_balls = dict.fromkeys(colors, 5)\n",
    "print(\"Keys:\", colors)\n",
    "print(color_balls)\n",
    "print()\n",
    "\n",
    "print(\"-------------------3) .get() function-------------------\")\n",
    "# used to extract value of a key\n",
    "print(dict_capital.get('Goa'))\n",
    "print()\n",
    "\n",
    "print(\"-------------------3) .items() function-------------------\")\n",
    "# return a list with all dictionary keys with values\n",
    "print(dict_capital.items())\n",
    "print()\n",
    "\n",
    "print(\"-------------------3) .keys() function-------------------\")\n",
    "# returns a list of all dictionary keys\n",
    "print(dict_capital.keys())\n",
    "print(type(dict_capital.keys()))\n",
    "print()\n",
    "\n",
    "print(\"-------------------3) .pop() function-------------------\")\n",
    "# remove a key value pair\n",
    "print(dict_capital)\n",
    "dict_capital.pop('Bihar')\n",
    "print(dict_capital)\n",
    "print()\n",
    "\n",
    "print(\"-------------------3) .popitem() function-------------------\")\n",
    "# a random key-value pair from the dictionary is removed and returns it as tuple.\n",
    "print(dict_capital)\n",
    "dict_capital.popitem()\n",
    "print(dict_capital)\n",
    "print()\n",
    "\n",
    "print(\"-------------------3) .setdefault() function-------------------\")\n",
    "# returns the value of a key (if the key is in dictionary). If not, it inserts key with a value to the dictionary.\n",
    "color_balls.setdefault('white', 5)\n",
    "print(color_balls)\n",
    "print()\n",
    "\n",
    "print(\"-------------------3) .update() function-------------------\")\n",
    "# add new dictionary key-value pairs\n",
    "dict_capital.update(color_balls)\n",
    "print(dict_capital)\n",
    "print()\n",
    "\n",
    "print(\"-------------------3) .values() function-------------------\")\n",
    "# returns a list of all values in a dictionary\n",
    "print(color_balls.values())\n",
    "print()\n",
    "\n",
    "print(\"-------------------3) .clear() function-------------------\")\n",
    "# delete all key-value pair\n",
    "dict_capital.clear()\n",
    "print(dict_capital)"
   ]
  },
  {
   "cell_type": "markdown",
   "metadata": {},
   "source": [
    "<b>Question 3</b> Sets and its default functions."
   ]
  },
  {
   "cell_type": "code",
   "execution_count": 15,
   "metadata": {},
   "outputs": [
    {
     "name": "stdout",
     "output_type": "stream",
     "text": [
      "Symmetric Difference:  {'R', 'Statistics', 'HTML', 'Scala', 'Neural Networks', 'Spark', 'ReactJS'}\n",
      "Difference:  {'Statistics', 'Spark', 'R', 'Neural Networks'}\n",
      "Add Scala:  {'Scala', 'R', 'Neural Networks', 'Statistics', 'Spark', 'SQL', 'Python'}\n",
      "Copy Set:  {'Python', 'Scala', 'R', 'Neural Networks', 'Statistics', 'Spark', 'SQL'}\n",
      "Difference Update:  {'ReactJS', 'SQL', 'Python', 'HTML'}\n",
      "Discard:  {'ReactJS', 'SQL', 'HTML'}\n"
     ]
    }
   ],
   "source": [
    "skillset_1 = {'Python', 'SQL', 'Spark', 'Statistics', 'R', 'Neural Networks'}\n",
    "skillset_2 = {'Scala', 'HTML', 'ReactJS', 'Python', 'SQL'}\n",
    "print(\"Symmetric Difference: \", skillset_1.symmetric_difference(skillset_2))\n",
    "print(\"Difference: \", skillset_1.difference(skillset_2))\n",
    "skillset_1.add(\"Scala\")\n",
    "print(\"Add Scala: \", skillset_1)\n",
    "skillset_3 = skillset_1.copy()\n",
    "print(\"Copy Set: \", skillset_3)\n",
    "skillset_2.difference_update({'Hive', 'Pig', 'Scala'})\n",
    "print(\"Difference Update: \", skillset_2)\n",
    "skillset_2.discard('Python')\n",
    "print(\"Discard: \", skillset_2)"
   ]
  },
  {
   "cell_type": "markdown",
   "metadata": {},
   "source": [
    "<b>Question 4</b> Tuple and explore default methods."
   ]
  },
  {
   "cell_type": "code",
   "execution_count": 4,
   "metadata": {},
   "outputs": [
    {
     "name": "stdout",
     "output_type": "stream",
     "text": [
      "Count function: 2\n",
      "Index function: 3\n"
     ]
    }
   ],
   "source": [
    "colors = ('green', 'blue', 'red', 'black', 'white', 'green')\n",
    "print(\"Count function:\", colors.count('green'))\n",
    "print(\"Index function:\", colors.index('black'))"
   ]
  },
  {
   "cell_type": "markdown",
   "metadata": {},
   "source": [
    "<b>Question 5</b> Strings and explore default methods."
   ]
  },
  {
   "cell_type": "code",
   "execution_count": 23,
   "metadata": {},
   "outputs": [
    {
     "name": "stdout",
     "output_type": "stream",
     "text": [
      "Capitalize:  Hello, welcome to my python world.\n",
      "Casefold:  hello, welcome to my python world.\n",
      "Endswith period:  True\n",
      "Count of y:  2\n",
      "Find p:  21\n",
      "Index of w:  7\n",
      "Swapcase:  hELLO, WELCOME TO MY PYTHON WORLD.\n",
      "Title:  Hello, Welcome To My Python World.\n",
      "Upper:  HELLO, WELCOME TO MY PYTHON WORLD.\n",
      "Lower:  hello, welcome to my python world.\n"
     ]
    }
   ],
   "source": [
    "s = \"Hello, welcome to my python world.\"\n",
    "print(\"Capitalize: \", s.capitalize())\n",
    "print(\"Casefold: \", s.casefold())\n",
    "print(\"Endswith period: \", s.endswith('.'))\n",
    "print(\"Count of y: \", s.count('y'))\n",
    "print(\"Find p: \", s.find('p'))\n",
    "print(\"Index of w: \", s.index('w'))\n",
    "print(\"Swapcase: \", s.swapcase())\n",
    "print(\"Title: \", s.title())\n",
    "print(\"Upper: \", s.upper())\n",
    "print(\"Lower: \", s.lower())"
   ]
  }
 ],
 "metadata": {
  "kernelspec": {
   "display_name": "Python 3",
   "language": "python",
   "name": "python3"
  },
  "language_info": {
   "codemirror_mode": {
    "name": "ipython",
    "version": 3
   },
   "file_extension": ".py",
   "mimetype": "text/x-python",
   "name": "python",
   "nbconvert_exporter": "python",
   "pygments_lexer": "ipython3",
   "version": "3.7.1"
  }
 },
 "nbformat": 4,
 "nbformat_minor": 2
}
